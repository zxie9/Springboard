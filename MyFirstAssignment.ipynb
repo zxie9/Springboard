{
 "cells": [
  {
   "cell_type": "code",
   "execution_count": 1,
   "id": "dfee4838",
   "metadata": {},
   "outputs": [],
   "source": [
    "import pandas as pd\n",
    "import numpy as np\n",
    "import matplotlib.pyplot as plt\n",
    "# from empiricaldist import Pmf"
   ]
  },
  {
   "cell_type": "code",
   "execution_count": 2,
   "id": "2e2c85c7",
   "metadata": {},
   "outputs": [],
   "source": [
    "n_est = [int(n) for n in np.logspace(start=1, stop=3, num=20)]\n",
    "# plt.plot(range(20),n_est)"
   ]
  },
  {
   "cell_type": "code",
   "execution_count": 3,
   "id": "c7d5a640",
   "metadata": {},
   "outputs": [],
   "source": [
    "from sklearn.metrics import r2_score, mean_squared_error, mean_absolute_error"
   ]
  },
  {
   "cell_type": "code",
   "execution_count": 4,
   "id": "48b47f28",
   "metadata": {},
   "outputs": [],
   "source": [
    "## ?? for explanation of r2_score\n",
    "# r2_score??"
   ]
  },
  {
   "cell_type": "code",
   "execution_count": 5,
   "id": "b6152650",
   "metadata": {},
   "outputs": [
    {
     "data": {
      "text/plain": [
       "3.0"
      ]
     },
     "execution_count": 5,
     "metadata": {},
     "output_type": "execute_result"
    }
   ],
   "source": [
    "import statistics\n",
    "statistics.median([1,2,3,4,5])\n",
    "\n",
    "import numpy as np\n",
    "np.median([1,2,3,4,5])"
   ]
  },
  {
   "cell_type": "code",
   "execution_count": 6,
   "id": "dbcbb95a",
   "metadata": {},
   "outputs": [
    {
     "data": {
      "text/plain": [
       "129"
      ]
     },
     "execution_count": 6,
     "metadata": {},
     "output_type": "execute_result"
    }
   ],
   "source": [
    "a=[133, 131, 130, 130, 129, 128, 128, 129, 132, 134, 134]\n",
    "b=sorted(a)\n",
    "sorted(a)[2]"
   ]
  },
  {
   "cell_type": "code",
   "execution_count": 7,
   "id": "958f45bf",
   "metadata": {},
   "outputs": [
    {
     "data": {
      "text/plain": [
       "float"
      ]
     },
     "execution_count": 7,
     "metadata": {},
     "output_type": "execute_result"
    }
   ],
   "source": [
    "type(12/2)"
   ]
  },
  {
   "cell_type": "code",
   "execution_count": 5,
   "id": "cbab1748",
   "metadata": {
    "scrolled": true
   },
   "outputs": [],
   "source": [
    "## pandas-profiling\n",
    "import numpy as np\n",
    "import pandas as pd\n",
    "from pandas_profiling import ProfileReport\n",
    "\n",
    "df = pd.DataFrame(np.random.rand(100, 5), columns=[\"a\", \"b\", \"c\", \"d\", \"e\"])\n",
    "profile = ProfileReport(df, title=\"Pandas Profiling Report\")\n",
    "# profile.to_widgets()\n",
    "# profile.to_notebook_iframe()\n",
    "# profile.to_file('tmp/report_test.html')"
   ]
  }
 ],
 "metadata": {
  "kernelspec": {
   "display_name": "Python 3 (ipykernel)",
   "language": "python",
   "name": "python3"
  },
  "language_info": {
   "codemirror_mode": {
    "name": "ipython",
    "version": 3
   },
   "file_extension": ".py",
   "mimetype": "text/x-python",
   "name": "python",
   "nbconvert_exporter": "python",
   "pygments_lexer": "ipython3",
   "version": "3.9.13"
  }
 },
 "nbformat": 4,
 "nbformat_minor": 5
}
